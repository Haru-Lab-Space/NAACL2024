{
 "cells": [
  {
   "cell_type": "code",
   "execution_count": 6,
   "metadata": {},
   "outputs": [],
   "source": [
    "import json\n",
    "import random"
   ]
  },
  {
   "cell_type": "code",
   "execution_count": 7,
   "metadata": {},
   "outputs": [],
   "source": [
    "def read_json(file_path):\n",
    "    with open(file_path, 'r') as json_file:\n",
    "        data = json.load(json_file)\n",
    "    return data\n",
    "def write_json(path, data):\n",
    "    with open(path, 'w') as json_file:\n",
    "        json.dump(data, json_file, indent=4)"
   ]
  },
  {
   "cell_type": "code",
   "execution_count": 8,
   "metadata": {},
   "outputs": [],
   "source": [
    "data = read_json(\"data/ECF 2.0/train/train.json\")"
   ]
  },
  {
   "cell_type": "code",
   "execution_count": 9,
   "metadata": {},
   "outputs": [],
   "source": [
    "emotion_data = []\n",
    "emotion_dict = {}\n",
    "for i in range(len(data)):\n",
    "    conversation_ID = data[i]['conversation_ID']\n",
    "    utterance_ID = data[i]['utterance_ID']\n",
    "    emotion = data[i]['emotion']\n",
    "    paragraph = data[i]['paragraph']\n",
    "    main_text = data[i]['main_text']\n",
    "    text_pool = data[i]['text_pool']\n",
    "    if conversation_ID in emotion_dict.keys():\n",
    "        if utterance_ID not in emotion_dict[conversation_ID].keys():\n",
    "            emotion_dict[conversation_ID][utterance_ID] = {\n",
    "                \"paragraph\" : paragraph,\n",
    "                \"main_text\" : main_text,\n",
    "                \"text_pool\" : text_pool,\n",
    "                \"emotion\" : emotion\n",
    "            }\n",
    "    else:\n",
    "        emotion_dict[conversation_ID] = {}\n",
    "\n",
    "for conversation_ID in emotion_dict.keys():\n",
    "    for utterance_ID in emotion_dict[conversation_ID].keys():\n",
    "        emotion = emotion_dict[conversation_ID][utterance_ID]['emotion']\n",
    "        paragraph = emotion_dict[conversation_ID][utterance_ID]['paragraph']\n",
    "        main_text = emotion_dict[conversation_ID][utterance_ID]['main_text']\n",
    "        text_pool = emotion_dict[conversation_ID][utterance_ID]['text_pool']\n",
    "        sample = {\n",
    "            \"conversation_ID\" : conversation_ID,\n",
    "            \"utterance_ID\" : utterance_ID,\n",
    "            \"emotion\" : emotion,\n",
    "            \"paragraph\" : paragraph,\n",
    "            \"main_text\" : main_text,\n",
    "            \"text_pool\" : text_pool,\n",
    "            \"casual_pool\": \"\",\n",
    "            \"casual_span_pool\": [0,0,0],\n",
    "            \"span_label\": 0\n",
    "\n",
    "        }\n",
    "        emotion_data.append(sample)"
   ]
  },
  {
   "cell_type": "code",
   "execution_count": 10,
   "metadata": {},
   "outputs": [
    {
     "data": {
      "text/plain": [
       "{'neutral': 5879,\n",
       " 'surprise': 1832,\n",
       " 'anger': 1609,\n",
       " 'sadness': 1141,\n",
       " 'joy': 2286,\n",
       " 'disgust': 412,\n",
       " 'fear': 371}"
      ]
     },
     "execution_count": 10,
     "metadata": {},
     "output_type": "execute_result"
    }
   ],
   "source": [
    "dict = {}\n",
    "for i in range(len(emotion_data)):\n",
    "    emotion = emotion_data[i]['emotion']\n",
    "    if emotion in dict:\n",
    "        dict[emotion] +=1\n",
    "    else:\n",
    "        dict[emotion] = 0\n",
    "dict"
   ]
  },
  {
   "cell_type": "code",
   "execution_count": 11,
   "metadata": {},
   "outputs": [],
   "source": [
    "neutral_data = []\n",
    "other_data = []\n",
    "for i in range(len(emotion_data)):\n",
    "    emotion = emotion_data[i]['emotion']\n",
    "    if emotion == 'neutral':\n",
    "        neutral_data.append(emotion_data[i])\n",
    "    else:\n",
    "        other_data.append(emotion_data[i])\n",
    "new_data = neutral_data + other_data + other_data"
   ]
  },
  {
   "cell_type": "code",
   "execution_count": 12,
   "metadata": {},
   "outputs": [
    {
     "data": {
      "text/plain": [
       "{'neutral': 5879,\n",
       " 'surprise': 3665,\n",
       " 'anger': 3219,\n",
       " 'sadness': 2283,\n",
       " 'joy': 4573,\n",
       " 'disgust': 825,\n",
       " 'fear': 743}"
      ]
     },
     "execution_count": 12,
     "metadata": {},
     "output_type": "execute_result"
    }
   ],
   "source": [
    "dict = {}\n",
    "for i in range(len(new_data)):\n",
    "    emotion = new_data[i]['emotion']\n",
    "    if emotion in dict:\n",
    "        dict[emotion] +=1\n",
    "    else:\n",
    "        dict[emotion] = 0\n",
    "dict"
   ]
  },
  {
   "cell_type": "code",
   "execution_count": 13,
   "metadata": {},
   "outputs": [],
   "source": [
    "random.shuffle(new_data)"
   ]
  },
  {
   "cell_type": "code",
   "execution_count": 14,
   "metadata": {},
   "outputs": [],
   "source": [
    "write_json(\"data/ECF 2.0/train/emotion_train.json\", new_data)\n",
    "write_json(\"data/ECF 2.0/train/original_emotion_train.json\", emotion_data)"
   ]
  },
  {
   "cell_type": "code",
   "execution_count": null,
   "metadata": {},
   "outputs": [],
   "source": []
  },
  {
   "cell_type": "code",
   "execution_count": 15,
   "metadata": {},
   "outputs": [],
   "source": [
    "d = read_json(\"data/ECF 2.0/train/train.json\")"
   ]
  },
  {
   "cell_type": "code",
   "execution_count": 16,
   "metadata": {},
   "outputs": [
    {
     "name": "stdout",
     "output_type": "stream",
     "text": [
      "{'conversation_ID': 1, 'utterance_ID': 3, 'paragraph': 'Alright , so I am back in high school , I am standing in the middle of the cafeteria , and I realize I am totally naked . Oh , yeah . Had that dream . Then I look down , and I realize there is a phone ... there . Instead of ... ? That is right .', 'main_text': 'Then I look down , and I realize there is a phone ... there .', 'text_pool': ['Alright , so I am back in high school , I am standing in the middle of the cafeteria , and I realize I am totally naked .', 'Oh , yeah . Had that dream .', 'Then I look down , and I realize there is a phone ... there .', 'Instead of ... ?', 'That is right .'], 'speaker_pool': ['Chandler', 'All', 'Chandler', 'Joey', 'Chandler'], 'emotion': 'surprise', 'casual_pool': 'I realize I am totally naked .', 'casual_span_pool': [1, 21, 27], 'span_label': 1.0}\n",
      "{'conversation_ID': 1, 'utterance_ID': 3, 'paragraph': 'Alright , so I am back in high school , I am standing in the middle of the cafeteria , and I realize I am totally naked . Oh , yeah . Had that dream . Then I look down , and I realize there is a phone ... there . Instead of ... ? That is right .', 'main_text': 'Then I look down , and I realize there is a phone ... there .', 'text_pool': ['Alright , so I am back in high school , I am standing in the middle of the cafeteria , and I realize I am totally naked .', 'Oh , yeah . Had that dream .', 'Then I look down , and I realize there is a phone ... there .', 'Instead of ... ?', 'That is right .'], 'speaker_pool': ['Chandler', 'All', 'Chandler', 'Joey', 'Chandler'], 'emotion': 'surprise', 'casual_pool': 'and I realize I am totally naked', 'casual_span_pool': [1, 20, 27], 'span_label': 0.8571428571428571}\n",
      "{'conversation_ID': 1, 'utterance_ID': 3, 'paragraph': 'Alright , so I am back in high school , I am standing in the middle of the cafeteria , and I realize I am totally naked . Oh , yeah . Had that dream . Then I look down , and I realize there is a phone ... there . Instead of ... ? That is right .', 'main_text': 'Then I look down , and I realize there is a phone ... there .', 'text_pool': ['Alright , so I am back in high school , I am standing in the middle of the cafeteria , and I realize I am totally naked .', 'Oh , yeah . Had that dream .', 'Then I look down , and I realize there is a phone ... there .', 'Instead of ... ?', 'That is right .'], 'speaker_pool': ['Chandler', 'All', 'Chandler', 'Joey', 'Chandler'], 'emotion': 'surprise', 'casual_pool': 'Then I look down , and I realize there is a phone ... there .', 'casual_span_pool': [3, 0, 14], 'span_label': 1.0}\n",
      "{'conversation_ID': 1, 'utterance_ID': 4, 'paragraph': 'Alright , so I am back in high school , I am standing in the middle of the cafeteria , and I realize I am totally naked . Oh , yeah . Had that dream . Then I look down , and I realize there is a phone ... there . Instead of ... ? That is right . Never had that dream .', 'main_text': 'Instead of ... ?', 'text_pool': ['Alright , so I am back in high school , I am standing in the middle of the cafeteria , and I realize I am totally naked .', 'Oh , yeah . Had that dream .', 'Then I look down , and I realize there is a phone ... there .', 'Instead of ... ?', 'That is right .', 'Never had that dream .'], 'speaker_pool': ['Chandler', 'All', 'Chandler', 'Joey', 'Chandler', 'Joey'], 'emotion': 'surprise', 'casual_pool': 'I realize I am totally naked .', 'casual_span_pool': [1, 21, 27], 'span_label': 1.0}\n",
      "{'conversation_ID': 1, 'utterance_ID': 4, 'paragraph': 'Alright , so I am back in high school , I am standing in the middle of the cafeteria , and I realize I am totally naked . Oh , yeah . Had that dream . Then I look down , and I realize there is a phone ... there . Instead of ... ? That is right . Never had that dream .', 'main_text': 'Instead of ... ?', 'text_pool': ['Alright , so I am back in high school , I am standing in the middle of the cafeteria , and I realize I am totally naked .', 'Oh , yeah . Had that dream .', 'Then I look down , and I realize there is a phone ... there .', 'Instead of ... ?', 'That is right .', 'Never had that dream .'], 'speaker_pool': ['Chandler', 'All', 'Chandler', 'Joey', 'Chandler', 'Joey'], 'emotion': 'surprise', 'casual_pool': 'and I realize I am totally naked', 'casual_span_pool': [1, 20, 27], 'span_label': 0.8571428571428571}\n"
     ]
    }
   ],
   "source": [
    "for i in range(0, 100):\n",
    "    if d[i]['span_label'] >0 :\n",
    "        print(d[i])"
   ]
  }
 ],
 "metadata": {
  "kernelspec": {
   "display_name": "ga_aug_std",
   "language": "python",
   "name": "python3"
  },
  "language_info": {
   "codemirror_mode": {
    "name": "ipython",
    "version": 3
   },
   "file_extension": ".py",
   "mimetype": "text/x-python",
   "name": "python",
   "nbconvert_exporter": "python",
   "pygments_lexer": "ipython3",
   "version": "3.11.5"
  }
 },
 "nbformat": 4,
 "nbformat_minor": 2
}
